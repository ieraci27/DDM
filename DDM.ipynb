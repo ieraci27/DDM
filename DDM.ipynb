{
 "cells": [
  {
   "cell_type": "code",
   "execution_count": 7,
   "id": "130cbf97",
   "metadata": {},
   "outputs": [],
   "source": [
    "import requests\n",
    "import numpy as np\n",
    "import pandas as pd"
   ]
  },
  {
   "cell_type": "code",
   "execution_count": 8,
   "id": "d32d9ce1",
   "metadata": {},
   "outputs": [],
   "source": [
    "# API \n",
    "api_key = '6KP4N5HM0UYLK3GP'\n",
    "\n",
    "# Ticker Merck\n",
    "symbol = 'MRK'"
   ]
  },
  {
   "cell_type": "code",
   "execution_count": 9,
   "id": "87ff7b64",
   "metadata": {},
   "outputs": [],
   "source": [
    "# Funzione per ottenere informazioni sull'azienda e dividendi annuali\n",
    "def get_company_info(symbol):\n",
    "    url_overview = f'https://www.alphavantage.co/query?function=OVERVIEW&symbol={symbol}&apikey={api_key}'\n",
    "    response = requests.get(url_overview)\n",
    "    data = response.json()\n",
    "    \n",
    "    print(\"\\nInformazioni di base sull'azienda:\")\n",
    "    for key, value in data.items():\n",
    "        print(f\"{key}: {value}\")\n",
    "    \n",
    "    return data"
   ]
  },
  {
   "cell_type": "code",
   "execution_count": 10,
   "id": "49a31df9",
   "metadata": {},
   "outputs": [],
   "source": [
    "# Funzione per ottenere i dividendi storici\n",
    "def get_dividends(symbol):\n",
    "    url_dividends = f'https://www.alphavantage.co/query?function=TIME_SERIES_MONTHLY_ADJUSTED&symbol={symbol}&apikey={api_key}'\n",
    "    response = requests.get(url_dividends)\n",
    "    data = response.json()\n",
    "    \n",
    "    # Estrggo i dividendi e converto in un DataFrame\n",
    "    monthly_data = data.get('Monthly Adjusted Time Series', {})\n",
    "    dividends = pd.DataFrame([(date, float(values['7. dividend amount'])) for date, values in monthly_data.items() if float(values['7. dividend amount']) > 0],\n",
    "                             columns=['Date', 'Dividend'])\n",
    "    dividends['Date'] = pd.to_datetime(dividends['Date'])\n",
    "    dividends.set_index('Date', inplace=True)\n",
    "    dividends = dividends.resample('Y').sum()  # Raggruppo per anno per ottenere i dividendi annuali\n",
    "    \n",
    "    # Calcolo del tasso di crescita\n",
    "    dividends['Growth'] = dividends['Dividend'].pct_change()\n",
    "    \n",
    "    print(\"\\nDividendi annuali e tasso di crescita calcolato:\")\n",
    "    print(dividends)\n",
    "    \n",
    "    return dividends"
   ]
  },
  {
   "cell_type": "code",
   "execution_count": 11,
   "id": "ab728c20",
   "metadata": {},
   "outputs": [
    {
     "name": "stdout",
     "output_type": "stream",
     "text": [
      "\n",
      "Informazioni di base sull'azienda:\n",
      "Symbol: MRK\n",
      "AssetType: Common Stock\n",
      "Name: Merck & Company Inc\n",
      "Description: Merck & Co. is an American multinational pharmaceutical company headquartered in Kenilworth, New Jersey. It is named after the Merck family, which set up Merck Group in Germany in 1668.\n",
      "CIK: 310158\n",
      "Exchange: NYSE\n",
      "Currency: USD\n",
      "Country: USA\n",
      "Sector: LIFE SCIENCES\n",
      "Industry: PHARMACEUTICAL PREPARATIONS\n",
      "Address: 2000 GALLOPING HILL ROAD, KENILWORTH, NJ, US\n",
      "OfficialSite: https://www.merck.com\n",
      "FiscalYearEnd: December\n",
      "LatestQuarter: 2024-06-30\n",
      "MarketCapitalization: 258246443000\n",
      "EBITDA: 31673999000\n",
      "PERatio: 21.31\n",
      "PEGRatio: 0.0685\n",
      "BookValue: 17.19\n",
      "DividendPerShare: 3.04\n",
      "DividendYield: 0.0302\n",
      "EPS: 4.78\n",
      "RevenuePerShareTTM: 24.95\n",
      "ProfitMargin: 0.192\n",
      "OperatingMarginTTM: 0.265\n",
      "ReturnOnAssetsTTM: 0.114\n",
      "ReturnOnEquityTTM: 0.334\n",
      "RevenueTTM: 63174001000\n",
      "GrossProfitTTM: 42077000000\n",
      "DilutedEPSTTM: 4.78\n",
      "QuarterlyEarningsGrowthYOY: -0.333\n",
      "QuarterlyRevenueGrowthYOY: 0.044\n",
      "AnalystTargetPrice: 134.6\n",
      "AnalystRatingStrongBuy: 7\n",
      "AnalystRatingBuy: 18\n",
      "AnalystRatingHold: 3\n",
      "AnalystRatingSell: 0\n",
      "AnalystRatingStrongSell: 0\n",
      "TrailingPE: 21.31\n",
      "ForwardPE: 10.15\n",
      "PriceToSalesRatioTTM: 4.088\n",
      "PriceToBookRatio: 5.93\n",
      "EVToRevenue: 4.506\n",
      "EVToEBITDA: 20.14\n",
      "Beta: 0.399\n",
      "52WeekHigh: 133.74\n",
      "52WeekLow: 97.22\n",
      "50DayMovingAverage: 112.25\n",
      "200DayMovingAverage: 122.09\n",
      "SharesOutstanding: 2534810000\n",
      "DividendDate: 2024-10-07\n",
      "ExDividendDate: 2024-09-16\n",
      "\n",
      "Dividendi annuali e tasso di crescita calcolato:\n",
      "            Dividend    Growth\n",
      "Date                          \n",
      "1999-12-31      0.29       NaN\n",
      "2000-12-31      1.26  3.344828\n",
      "2001-12-31      1.38  0.095238\n",
      "2002-12-31      1.42  0.028986\n",
      "2003-12-31      4.34  2.056338\n",
      "2004-12-31      1.50 -0.654378\n",
      "2005-12-31      1.52  0.013333\n",
      "2006-12-31      1.52  0.000000\n",
      "2007-12-31      1.52  0.000000\n",
      "2008-12-31      1.52  0.000000\n",
      "2009-12-31      1.52  0.000000\n",
      "2010-12-31      1.52  0.000000\n",
      "2011-12-31      1.56  0.026316\n",
      "2012-12-31      1.69  0.083333\n",
      "2013-12-31      1.73  0.023669\n",
      "2014-12-31      1.77  0.023121\n",
      "2015-12-31      1.81  0.022599\n",
      "2016-12-31      1.85  0.022099\n",
      "2017-12-31      1.89  0.021622\n",
      "2018-12-31      1.99  0.052910\n",
      "2019-12-31      2.26  0.135678\n",
      "2020-12-31      2.48  0.097345\n",
      "2021-12-31      2.64  0.064516\n",
      "2022-12-31      2.80  0.060606\n",
      "2023-12-31      2.96  0.057143\n",
      "2024-12-31      2.31 -0.219595\n",
      "\n",
      "Tasso di crescita medio dei dividendi (ultimi 10 anni): 3.15%\n"
     ]
    }
   ],
   "source": [
    "# Ottenere informazioni sull'azienda\n",
    "info = get_company_info(symbol)\n",
    "\n",
    "# Ottenere i dividendi storici\n",
    "dividends = get_dividends(symbol)\n",
    "\n",
    "# Calcolo del tasso di crescita medio considerando solo gli ultimi 10 anni\n",
    "if len(dividends) > 10:\n",
    "    last_10_years_growth = dividends['Growth'].iloc[-10:]  # Prendi solo gli ultimi 10 anni di crescita\n",
    "else:\n",
    "    last_10_years_growth = dividends['Growth']\n",
    "\n",
    "# Calcolo della media escludendo il primo NaN\n",
    "valid_growth = last_10_years_growth.dropna()  # Rimuove i NaN per calcolare la media correttamente\n",
    "avg_growth_rate = valid_growth.mean()\n",
    "\n",
    "print(f\"\\nTasso di crescita medio dei dividendi (ultimi 10 anni): {avg_growth_rate:.2%}\")\n"
   ]
  },
  {
   "cell_type": "code",
   "execution_count": 13,
   "id": "621611e3",
   "metadata": {},
   "outputs": [
    {
     "name": "stdout",
     "output_type": "stream",
     "text": [
      "\n",
      "Ultimo dividendo pagato: $2.31\n",
      "Tasso di rendimento richiesto: 5.00%\n"
     ]
    }
   ],
   "source": [
    "# Prendo l'ultimo dividendo pagato\n",
    "last_dividend = dividends['Dividend'].iloc[-1]\n",
    "\n",
    "# Assumo di un tasso di rendimento richiesto\n",
    "required_rate_of_return = 0.05\n",
    "print(f\"\\nUltimo dividendo pagato: ${last_dividend:.2f}\")\n",
    "print(f\"Tasso di rendimento richiesto: {required_rate_of_return:.2%}\")"
   ]
  },
  {
   "cell_type": "code",
   "execution_count": 14,
   "id": "989ac13a",
   "metadata": {},
   "outputs": [
    {
     "name": "stdout",
     "output_type": "stream",
     "text": [
      "Dividendo previsto per l'anno 1: $2.38\n",
      "Dividendo previsto per l'anno 2: $2.46\n",
      "Dividendo previsto per l'anno 3: $2.54\n",
      "Dividendo previsto per l'anno 4: $2.62\n",
      "Dividendo previsto per l'anno 5: $2.70\n",
      "Dividendo previsto per l'anno 6: $2.78\n",
      "Dividendo previsto per l'anno 7: $2.87\n",
      "Dividendo previsto per l'anno 8: $2.96\n",
      "Dividendo previsto per l'anno 9: $3.05\n",
      "Dividendo previsto per l'anno 10: $3.15\n"
     ]
    }
   ],
   "source": [
    "# Proiezione dei dividendi per i prossimi 10 anni\n",
    "future_dividends = []\n",
    "for i in range(1, 11):\n",
    "    future_dividend = last_dividend * ((1 + avg_growth_rate) ** i)\n",
    "    future_dividends.append(future_dividend)\n",
    "    print(f\"Dividendo previsto per l'anno {i}: ${future_dividend:.2f}\")\n"
   ]
  },
  {
   "cell_type": "code",
   "execution_count": 15,
   "id": "02ab0913",
   "metadata": {},
   "outputs": [
    {
     "name": "stdout",
     "output_type": "stream",
     "text": [
      "\n",
      "Dividendi attualizzati:\n",
      "Anno 1: $2.27\n",
      "Anno 2: $2.23\n",
      "Anno 3: $2.19\n",
      "Anno 4: $2.15\n",
      "Anno 5: $2.11\n",
      "Anno 6: $2.08\n",
      "Anno 7: $2.04\n",
      "Anno 8: $2.00\n",
      "Anno 9: $1.97\n",
      "Anno 10: $1.93\n"
     ]
    }
   ],
   "source": [
    "# Calcolo del valore attuale dei dividendi futuri\n",
    "discounted_dividends = [div / ((1 + required_rate_of_return) ** i) for i, div in enumerate(future_dividends, start=1)]\n",
    "\n",
    "print(\"\\nDividendi attualizzati:\")\n",
    "for i, div in enumerate(discounted_dividends, start=1):\n",
    "    print(f\"Anno {i}: ${div:.2f}\")"
   ]
  },
  {
   "cell_type": "code",
   "execution_count": 16,
   "id": "d8b472a5",
   "metadata": {},
   "outputs": [
    {
     "name": "stdout",
     "output_type": "stream",
     "text": [
      "\n",
      "Valore terminale al decimo anno: $175.54\n",
      "Valore terminale attualizzato: $107.77\n"
     ]
    }
   ],
   "source": [
    "# Calcolo del valore terminale al decimo anno\n",
    "terminal_value = future_dividends[-1] * (1 + avg_growth_rate) / (required_rate_of_return - avg_growth_rate)\n",
    "discounted_terminal_value = terminal_value / ((1 + required_rate_of_return) ** 10)\n",
    "\n",
    "print(f\"\\nValore terminale al decimo anno: ${terminal_value:.2f}\")\n",
    "print(f\"Valore terminale attualizzato: ${discounted_terminal_value:.2f}\")"
   ]
  },
  {
   "cell_type": "code",
   "execution_count": 18,
   "id": "80b9809d",
   "metadata": {},
   "outputs": [
    {
     "name": "stdout",
     "output_type": "stream",
     "text": [
      "\n",
      "Valore teorico dell'azione di MRK (DDM): $128.74\n"
     ]
    }
   ],
   "source": [
    "# Calcolo del valore teorico dell'azione\n",
    "theoretical_value = sum(discounted_dividends) + discounted_terminal_value\n",
    "\n",
    "print(f\"\\nValore teorico dell'azione di {symbol} (DDM): ${theoretical_value:.2f}\")"
   ]
  },
  {
   "cell_type": "code",
   "execution_count": 20,
   "id": "dbaa58ed",
   "metadata": {},
   "outputs": [
    {
     "name": "stdout",
     "output_type": "stream",
     "text": [
      "\n",
      "Prezzo attuale di MRK: $101.88\n"
     ]
    }
   ],
   "source": [
    "# Scaricare il prezzo attuale di Merck\n",
    "url_price = f'https://www.alphavantage.co/query?function=GLOBAL_QUOTE&symbol={symbol}&apikey={api_key}'\n",
    "response = requests.get(url_price)\n",
    "current_price = float(response.json()['Global Quote']['05. price'])\n",
    "\n",
    "print(f\"\\nPrezzo attuale di {symbol}: ${current_price:.2f}\")"
   ]
  },
  {
   "cell_type": "code",
   "execution_count": null,
   "id": "eaae2ed5",
   "metadata": {},
   "outputs": [],
   "source": []
  },
  {
   "cell_type": "code",
   "execution_count": null,
   "id": "d748a6bc",
   "metadata": {},
   "outputs": [],
   "source": []
  }
 ],
 "metadata": {
  "kernelspec": {
   "display_name": "Python 3 (ipykernel)",
   "language": "python",
   "name": "python3"
  },
  "language_info": {
   "codemirror_mode": {
    "name": "ipython",
    "version": 3
   },
   "file_extension": ".py",
   "mimetype": "text/x-python",
   "name": "python",
   "nbconvert_exporter": "python",
   "pygments_lexer": "ipython3",
   "version": "3.9.13"
  }
 },
 "nbformat": 4,
 "nbformat_minor": 5
}
